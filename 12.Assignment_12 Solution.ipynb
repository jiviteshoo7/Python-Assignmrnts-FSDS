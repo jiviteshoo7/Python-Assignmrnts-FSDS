{
 "cells": [
  {
   "cell_type": "markdown",
   "id": "354c063f",
   "metadata": {},
   "source": [
    "### 1. In what modes should the PdfFileReader() and PdfFileWriter() File objects will be opened?\n",
    "`PdfFileReader()` file objects should be opened in`rb` -> read binary mode, Whereas for `PdfFileWriter()` file objects should be opened in `wb`-> write binary mode."
   ]
  },
  {
   "cell_type": "markdown",
   "id": "c1bd13eb",
   "metadata": {},
   "source": [
    "### 2. From a PdfFileReader object, how do you get a Page object for page 5?\n",
    "`PdfFileReader` class provides a method called `getPage(page_no)` to get a page object."
   ]
  },
  {
   "cell_type": "code",
   "execution_count": 34,
   "id": "697b5603",
   "metadata": {},
   "outputs": [
    {
     "data": {
      "text/plain": [
       "'  \\n \\n  \\n \\n\\n\\n\\n \\n \\n \\nNote for the facilitator\\n  \\n\\n \\n\\n\\n\\n \\n\\n\\n\\n\\x03{\\n \\nPlease ensure all \\nthe participants/students solve the exercises given at the end of the presentation. Students can be \\n\\nencouraged to come with problems and solutions for the same via flowcharts and algorithms.\\n  \\n\\n \\n\\n\\n\\n \\n\\nUnderstanding Sensors and Actuators, and their \\n\\napplications\\n  \\n\\n \\n\\n\\n\\nHere you will learn about different kind of sensors and their applications.\\n  \\n\\n \\n\\n\\n\\nImagine a human body without its five basic senses. It will not be able to interact with its surroundings, and it will not \\n\\nbe able to produce any reaction. Similarly in the world \\n of computers we have sensors \\n\\x03W\\n \\nto help know the input/output \\n\\nfor any selected process/program.\\n \\n\\n \\n\\n\\n\\nIn the broadest definition, a \\nsensor is an electronic component\\n, module, or subsystem \\nwhose purpose is\\n \\nto detect \\n\\nevents or changes \\n in its environment,\\n  \\nand send this information to other electronics\\n , frequently a\\n \\ncomputer processor. \\n\\nA sensor is always used with other electronics, whether as simple as an electric light or as complex as a computer.\\n  \\n\\n \\n\\n\\n\\nSensors come  in variety of  shapes and sizes, and they  sen\\nse a  very large  variety of things, from heartbeats to air \\n\\npressure, from brightness to heat \\n-\\n \\n\\x01ı\\x01Z\\x01˚\\x01„\\x01˚\\x01’\\x01˚\\x01v\\x01’\\x01}\\x01ı\\x01}\\x01u\\x01˚\\x01o\\x01u\\x01}\\x01’\\x01˚\\x01À\\x01˚\\x01„\\x01Ç\\x01ı\\x01Z\\x01]\\x01v\\x01ˆ\\x01Z\\x01˚\\x01„\\x01˚\\x01]\\x01’\\x01v\\x03[\\x01’\\x01˚\\x01v\\x01’\\x01}\\x01’\\x01›\\x01˚\\x01\\x10\\x01]\\x01(\\x01]\\x01\\x10\\n\\nto your requirement, you can mix and match a variety of sensors to accomplish\\n  \\nwhat you need.\\n \\n\\n \\n\\n\\n\\nActuators are basically things that produce an action\\n . They are like the hands and legs of a person, and\\n  \\nthey come \\n\\nin  various  forms  and  shapes.  Electromagnets,  relays,  DC  motors,  servo  motors  etc.  are  a  few  examples  of \\n\\ncommonly used actuat\\nors.\\n \\n \\n\\n \\n\\n\\n\\n \\n\\n\\n\\nNote for the facilitator\\n  \\n \\n\\n \\n\\n\\n\\n\\x03{\\n \\nPlease refer to the Computational Thinking presentation about sensors and actuators provided in the pen drive\\n  \\n\\n \\n\\n\\n\\n\\x03{\\n \\nPlease ensure all the participants/students solve the exercises given at the end of the presentation. \\n Students can be \\n\\nencouraged to come with problems and solutions for the same via flowcharts and algorithms.\\n  \\n \\n\\n \\n\\n\\n\\n \\n\\n\\n\\nUnderstanding Circuits\\n  \\n\\n \\n\\n\\n\\nThis will help you to understand what are circuits and different kind of circuits.\\n  \\n\\n \\n\\n\\n\\nIn electronics, a circuit is a path \\nbetween two or more points along which an electrical current can be carried.\\n A \\n\\ncircuit is a closed loop that electrons can travel in. A source of electricity, such as a battery, provides electrical \\n\\nenergy in the circuit. Unless the circuit is complete, th\\n at is, making a full circle back to the electrical source, no \\n\\nelectrons will move.\\n3\\n \\n\\n \\n\\n\\n\\n3\\nhttp://www.qrg.northwestern.edu/projects/vss/docs/power/2\\n -\\nwhats\\n-\\na\\n-\\ncircuit.ht'"
      ]
     },
     "execution_count": 34,
     "metadata": {},
     "output_type": "execute_result"
    }
   ],
   "source": [
    "import PyPDF2 as pdf\n",
    "pdfFileObj = open(\"Introduction_to_Computational_Thinking.pdf\",'rb')\n",
    "pdfReader = pdf.PdfFileReader(pdfFileObj)\n",
    "pageObj = pdfReader.getPage(4)\n",
    "pageObj.extractText()"
   ]
  },
  {
   "cell_type": "markdown",
   "id": "ddc7d5e9",
   "metadata": {},
   "source": [
    "### 3. What PdfFileReader variable stores the number of pages in the PDF document?\n",
    "`getNumPages()` method of `PdfFileReader` class stores the no pages in a PDF document."
   ]
  },
  {
   "cell_type": "code",
   "execution_count": 35,
   "id": "7bef3a6b",
   "metadata": {},
   "outputs": [
    {
     "data": {
      "text/plain": [
       "70"
      ]
     },
     "execution_count": 35,
     "metadata": {},
     "output_type": "execute_result"
    }
   ],
   "source": [
    "import PyPDF2 as pdf\n",
    "pdfFileObj = open(\"Stock_market_guide.pdf\",'rb')\n",
    "pdfReader = pdf.PdfFileReader(pdfFileObj)\n",
    "pdfReader.numPages"
   ]
  },
  {
   "cell_type": "markdown",
   "id": "b750ecda",
   "metadata": {},
   "source": [
    "### 4. If a PdfFileReader object’s PDF is encrypted with the password swordfish, what must you do before you can obtain Page objects from it?\n",
    "Before we obtain the page object, the pdf has to be decrypted by calling .decrypt('swordfish')"
   ]
  },
  {
   "cell_type": "code",
   "execution_count": 36,
   "id": "bbf3e761",
   "metadata": {},
   "outputs": [],
   "source": [
    "#pdfReader.decrypt('swordfish')"
   ]
  },
  {
   "cell_type": "markdown",
   "id": "eb2989bf",
   "metadata": {},
   "source": [
    "### 5. What methods do you use to rotate a page?\n",
    "PyPDF2 Package provides 2 methods to rotate a page:\n",
    "`rotateClockWise()` -> For Clockwise rotation\n",
    "`rotateCounterClockWise()` -> For Counter Clockwise rotation  \n",
    "\n",
    "The PyPDF2 package only allows you to rotate a page in increments of 90 degrees. You will receive an AssertionError otherwise."
   ]
  },
  {
   "cell_type": "markdown",
   "id": "2b46fab1",
   "metadata": {},
   "source": [
    "### 6. What is the difference between a Run object and a Paragraph object?\n",
    "Paragraph Object :  A document contains multiple paragraphs. A paragraph begins on a new line and contains multiple \n",
    "runs. \n",
    "The Document object contains a list of Paragraph objects for the paragraphs in the document. (A new paragraph begins \n",
    "whenever the user presses ENTER or RETURN while typing in a Word document.)\n",
    "\n",
    "Run Objects :\n",
    "Runs are contiguous groups of characters within a paragraph with the same style"
   ]
  },
  {
   "cell_type": "markdown",
   "id": "4880f471",
   "metadata": {},
   "source": [
    "### 7. How do you obtain a list of Paragraph objects for a Document object that’s stored in a variable named doc?\n",
    "By using doc.paragraphs"
   ]
  },
  {
   "cell_type": "markdown",
   "id": "4e696c59",
   "metadata": {},
   "source": [
    "### 8. What type of object has bold, underline, italic, strike, and outline variables?\n",
    "`Run` object has bold, underline, italic, strike, and outline variables. The text in a Word document is more than just a string. It has font, size, color, and other styling information associated with it."
   ]
  },
  {
   "cell_type": "markdown",
   "id": "0ff87713",
   "metadata": {},
   "source": [
    "### 9. What is the difference between False, True, and None for the bold variable?\n",
    "Runs can be further styled using text attributes. Each attribute can be set to one of three values: \n",
    "True (the attribute is always enabled, no matter what other styles are applied to the run), \n",
    "False (the attribute is always disabled),\n",
    "None (defaults to whatever the run’s style is set to)\n",
    "\n",
    "True always makes the Run object bolded and False makes it always not bolded, no matter what the style’s bold setting is. None will make the Run object just use the style’s bold setting"
   ]
  },
  {
   "cell_type": "code",
   "execution_count": 37,
   "id": "2e8087e0",
   "metadata": {},
   "outputs": [],
   "source": [
    "bold = True  \n",
    "bold = False \n",
    "bold = None "
   ]
  },
  {
   "cell_type": "markdown",
   "id": "7a280546",
   "metadata": {},
   "source": [
    "### 10. How do you create a Document object for a new Word document?\n",
    "By Calling the docx.Document() function.\n"
   ]
  },
  {
   "cell_type": "markdown",
   "id": "0b9f5441",
   "metadata": {},
   "source": [
    "### 11. How do you add a paragraph with the text 'Hello, there!' to a Document object stored in a variable named doc?"
   ]
  },
  {
   "cell_type": "code",
   "execution_count": 38,
   "id": "031fd95f",
   "metadata": {},
   "outputs": [],
   "source": [
    "#e.g.\n",
    "from docx import Document\n",
    "doc = Document()\n",
    "doc.add_paragraph('Hello, there!')\n",
    "doc.save('hello.docx')"
   ]
  },
  {
   "cell_type": "markdown",
   "id": "cfed7bb9",
   "metadata": {},
   "source": [
    "### 12. What integers represent the levels of headings available in Word documents?\n",
    "The levels for a heading in a word document can be specified by using the `level` attribute inside the `add_heading` method. There are a total of 5 levels statring for 0 t0 4. where level 0 makes a headline with the horizontal line below the text, whereas the heading level 1 is the main heading. Similarly, the other headings are sub-heading with their's font-sizes in decreasing order."
   ]
  }
 ],
 "metadata": {
  "kernelspec": {
   "display_name": "Python 3 (ipykernel)",
   "language": "python",
   "name": "python3"
  },
  "language_info": {
   "codemirror_mode": {
    "name": "ipython",
    "version": 3
   },
   "file_extension": ".py",
   "mimetype": "text/x-python",
   "name": "python",
   "nbconvert_exporter": "python",
   "pygments_lexer": "ipython3",
   "version": "3.9.7"
  }
 },
 "nbformat": 4,
 "nbformat_minor": 5
}
