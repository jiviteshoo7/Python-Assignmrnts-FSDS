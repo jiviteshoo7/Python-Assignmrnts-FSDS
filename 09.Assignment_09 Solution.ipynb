{
 "cells": [
  {
   "cell_type": "markdown",
   "id": "7a719726",
   "metadata": {},
   "source": [
    "### 1. To what does a relative path refer ?\n",
    "The relative path is the path to some file with respect to your current working directory (PWD).        \n",
    "e.g. PWD + relative path = absolute path"
   ]
  },
  {
   "cell_type": "markdown",
   "id": "1e5a7601",
   "metadata": {},
   "source": [
    "### 2. Where does an absolute path start with your Operating System ?\n",
    "]In Linux based systems the absolute path starts with `/`. Where as in Windows based systems absolute path starts with `C:`"
   ]
  },
  {
   "cell_type": "markdown",
   "id": "20cf4bf7",
   "metadata": {},
   "source": [
    "### 3. What does the functions `os.getcwd()` and `os.chdir()` do ?\n",
    "`os.getcwd()` method tells us the location of current working directory (CWD). Whereas `os.chdir()` method in Python used to change the current working directory to specified path. These functions are similar to linux commands `pwd` and `cd`"
   ]
  },
  {
   "cell_type": "code",
   "execution_count": 6,
   "id": "b45b79f1",
   "metadata": {},
   "outputs": [
    {
     "name": "stdout",
     "output_type": "stream",
     "text": [
      "C:\\Users\\JIVITESH\n",
      "C:\\Users\\JIVITESH\n"
     ]
    }
   ],
   "source": [
    "import os\n",
    "print(os.getcwd()) \n",
    "path = r'C:\\Users\\JIVITESH'\n",
    "os.chdir(path)\n",
    "print(os.getcwd())"
   ]
  },
  {
   "cell_type": "markdown",
   "id": "ef89a436",
   "metadata": {},
   "source": [
    "### 4. What are `.` and `..`  folders ?\n",
    "`.` Represents the Current Directory Whereas `..` Represents the Parent Directory of the Current Directory."
   ]
  },
  {
   "cell_type": "markdown",
   "id": "dc9559e2",
   "metadata": {},
   "source": [
    "### 5. In `C:\\bacon\\eggs\\spam.txt` which part is the dir name and which part is the base name ?\n",
    "For `C:\\bacon\\eggs\\spam.txt`  \n",
    "The dir name is `C:\\\\bacon\\\\eggs`  \n",
    "The Base name is `spam.txt`"
   ]
  },
  {
   "cell_type": "code",
   "execution_count": 7,
   "id": "3e63e793",
   "metadata": {},
   "outputs": [
    {
     "name": "stdout",
     "output_type": "stream",
     "text": [
      "C:\\bacon\\eggs\n",
      "spam.txt\n"
     ]
    }
   ],
   "source": [
    "import os\n",
    "path = r'C:\\bacon\\eggs\\spam.txt'\n",
    "print(os.path.dirname(path))\n",
    "print(os.path.basename(path))"
   ]
  },
  {
   "cell_type": "markdown",
   "id": "edb97d1b",
   "metadata": {},
   "source": [
    "### 6. What are the three `mode` arguments that can be passed to the `open()` function ?\n",
    "A file can be Accessed in python using `open()` function. open function takes two arguments filename and mode of operation (optional). if mode is not provided the default mode of opening is read mode   \n",
    "So, the syntax being: `open(filename, mode)`\n",
    "* **`‘r’`** – Read Mode: This is the default mode for open(). The file is opened and a pointer is positioned at the beginning of the file’s content.\n",
    "* **`‘w’`** – Write Mode: Using this mode will overwrite any existing content in a file. If the given file does not exist, a new one will be created. \n",
    "* **`‘r+’`** – Read/Write Mode: Use this mode if you need to simultaneously read and write to a file.\n",
    "* **`‘a’`** – Append Mode: With this mode the user can append the data without overwriting any already existing data in the file. \n",
    "* **`‘a+’`** – Append and Read Mode: In this mode you can read and append the data without overwriting the original file.\n",
    "* **`‘x’`** – Exclusive Creating Mode: This mode is for the sole purpose of creating new files. Use this mode if you know the file to be written doesn’t exist beforehand."
   ]
  },
  {
   "cell_type": "markdown",
   "id": "a6250b7d",
   "metadata": {},
   "source": [
    "### 7. What happens if an existing file is opened in write mode ?\n",
    "Using this mode will overwrite any existing content in a file. If the given file does not exist, a new one will be created."
   ]
  },
  {
   "cell_type": "markdown",
   "id": "e76da392",
   "metadata": {},
   "source": [
    "### 8. How do you tell the difference between `read()` and `readlines()` ?\n",
    "The main difference is that **`read()`** will read the whole file at once and then print out the first characters that take up as many bytes as you specify in the parenthesis\n",
    "**`readlines()`** :- This method will read the entire content of the file at a time. This method reads all the file content and stores it in the list and this method reads up to the end of the line with readline () and returns a list."
   ]
  },
  {
   "cell_type": "markdown",
   "id": "9e161992",
   "metadata": {},
   "source": [
    "### 9. What data structure does a shelf value resemble ?\n",
    "it contains key and values it represents dictionary."
   ]
  }
 ],
 "metadata": {
  "kernelspec": {
   "display_name": "Python 3 (ipykernel)",
   "language": "python",
   "name": "python3"
  },
  "language_info": {
   "codemirror_mode": {
    "name": "ipython",
    "version": 3
   },
   "file_extension": ".py",
   "mimetype": "text/x-python",
   "name": "python",
   "nbconvert_exporter": "python",
   "pygments_lexer": "ipython3",
   "version": "3.9.7"
  }
 },
 "nbformat": 4,
 "nbformat_minor": 5
}
