{
 "cells": [
  {
   "cell_type": "markdown",
   "id": "d8aab80a",
   "metadata": {},
   "source": [
    "### 1. What advantages do Excel spreadsheets have over CSV spreadsheets?\n",
    "The Advantages of Excel over CSV are:\n",
    "1. Excel (XLS and XLSX) file formats are better for storing and analysing complex data.\n",
    "2. An Excel not only stores data but can also do operations on the data using macros, formulas etc\n",
    "3. CSV files are plain-text files, Does not contain formatting, formulas, macros, etc. It is also known as flat files"
   ]
  },
  {
   "cell_type": "markdown",
   "id": "b66e958d",
   "metadata": {},
   "source": [
    "### 2. What do you pass to csv.reader() and csv.writer() to create reader and writer objects?"
   ]
  },
  {
   "cell_type": "code",
   "execution_count": 8,
   "id": "e7c67268",
   "metadata": {},
   "outputs": [
    {
     "name": "stdout",
     "output_type": "stream",
     "text": [
      "['id', 'organization_id', 'accessibility', 'admin_emails', 'alternate_name', 'description', 'email', 'languages', 'latitude', 'longitude', 'name', 'short_desc', 'transportation', 'website', 'virtual']\n",
      "['1', '1', 'disabled_parking, ramp, restroom, wheelchair', '', '', 'A walk-in center for older adults that provides social services, wellness, recreational, educational and creative activities including arts and crafts, computer classes and gardening classes. Coffee and healthy breakfasts are available daily. A hot lunch is served Tuesday-Friday for persons age 60 or over and spouse. Provides case management (including in-home assessments) and bilingual information and referral about community services to persons age 60 or over on questions of housing, employment, household help, recreation and social activities, home delivered meals, health and counseling services and services to shut-ins. Health insurance and legal counseling is available by appointment. Lectures on a variety of health and fitness topics are held monthly in both English and Spanish. Provides a variety of physical fitness opportunities, including a garden club, yoga, tai chi, soul line dance and aerobics classes geared toward older adults. Also provides free monthly blood pressure screenings, quarterly blood glucose monitoring and health screenings by a visiting nurse. Offers a Brown Bag Program in which low-income seniors can receive a bag of groceries each week for a membership fee of $10 a year. Offers Spanish lessons. Formerly known as Peninsula Family Service, Fair Oaks Intergenerational Center. Formerly known as the Fair Oaks Senior Center. Formerly known as Family Service Agency of San Mateo County, Fair Oaks Intergenerational Center.', '', 'Spanish, Tagalog', '37.477227', '-122.213221', 'Fair Oaks Adult Activity Center', \"A multipurpose senior citizens' center serving the Redwood City area.\", 'SAMTRANS stops in front.', '', 'false']\n",
      "['2', '1', 'wheelchair', '', '', 'Provides training and job placement to eligible people age 55 or over who meet certain income qualifications. An income of 125% of poverty level or less is required for subsidized employment and training. (No income requirements for job matchup program.) If a person seems likely to be qualified after a preliminary phone call or visit, he or she must complete an application at this office. Staff will locate appropriate placements for applicants, provide orientation and on-the-job training and assist with finding a job outside the program. Any county resident, regardless of income, age 55 or over has access to the program, job developers and the job bank. Also provides referrals to classroom training. Formerly known as Family Service Agency of San Mateo County, Senior Employment Services.', '', 'Chinese (Mandarin), Tagalog, Italian, Spanish', '37.5639843', '-122.3257992', 'Second Career Employment Program', \"Provides training and job placement to eligible persons age 55 or over. All persons age 55 or over have access to information in the program's job bank.\", 'SAMTRANS stops within 1 block, CALTRAIN stops within 6 blocks.', '', 'false']\n",
      "['3', '1', '', '', '', 'Offers supportive counseling services to San Mateo County residents age 55 or over. Volunteer counselors are selected and professionally trained to help their peers face the challenges and concerns of growing older. Training provides topics that include understanding depression, cultural competence, sexuality, community resources, and other subjects that are relevant to working with older adults. After completion of training, weekly supervision groups are provided for the volunteer senior peer counselors, as well as quarterly in-service training seminars. Peer counseling services are provided in English, Spanish, Chinese (Cantonese and Mandarin), Tagalog, and to the lesbian, gay, bisexual, transgender older adult community. Formerly known as Family Service Agency of San Mateo County, Senior Peer Counseling.', '', 'Chinese (Cantonese), Chinese (Mandarin), Tagalog, Spanish', '37.5639843', '-122.3257992', 'Senior Peer Counseling', 'Offers supportive counseling services to older persons.', \"Service is provided in person's home or at a mutually agreed upon location.\", '', 'false']\n",
      "['4', '1', 'wheelchair', '', '', \"Provides supervised visitation services and a neutral site for parents to carry out supervised exchanges of children in a safe manner. Therapeutic visitation and other counseling services available. Kids in the Middle is an education class for separating or divorcing parents. The goal is to enable parents to focus on their children's needs while the family is going through separation, divorce or other transition. The class explores the psychological aspects of divorce and its impact on children, builds effective communication techniques and points out areas in which outside help may be indicated. The fee is $50 for working parents, $15 for unemployed people. Classes are scheduled on Saturdays and Sundays and held at various sites throughout the county. Call 650-403-4300 ext. 4500 to register. Formerly known as Family Service Agency of San Mateo County, Family Visitation Center.\", '', 'Spanish', '37.5639843', '-122.3257992', 'Family Visitation Center', 'Provides supervised visitation services and a neutral site for parents in extremely hostile divorces to carry out supervised exchanges of children.', 'SAMTRANS stops within 1 block, CALTRAIN stops within 4 blocks.', '', 'false']\n",
      "['5', '1', 'wheelchair', '', '', 'Provides fixed 8% short term loans to eligible applicants for the purchase of a reliable, used autmobile. Loans are up to $6,000 over 2 1/2 years (30 months). Funds must go towards the entire purchase of the automobile. Peninsula Family Service originates loans and collaborates with commercial partner banks to service the loans, helping clients build credit histories. Formerly known as Family Service Agency of San Mateo County, Ways to Work Family Loan Program.', '', 'Hindi, Spanish', '37.5639843', '-122.3257992', 'Economic Self - Sufficiency Program', 'Makes small loans to working families.', 'SAMTRANS stops within 1 block. CALTRAIN stops within 6 blocks.', '', 'false']\n",
      "['6', '2', 'disabled_parking, wheelchair', '', '', \"A multipurpose center offering a wide variety of recreational, education and cultural activities. Lifelong learning courses cover topics such as music, art, languages, etc., are hosted at this location. Little House offers a large variety of classes including arts and crafts, jewelry, languages, current events, lapidary, woodwork, painting, and fitness courses (yoga, strength straining, tai chi). There are monthly art and cultural lectures, movie showings, and a computer center. Recreation activities include mah jong, pinochle, ballroom dancing, bridge, trips and tours. Partners with the Sequoia Adult Education Program. The Alzheimer's Cafe, open the third Tuesday of every month from 2:00 - 4:00 pm, is a place that brings together people liviing with dementia, their families, and their caregivers. Free and no registration is needed. The Little House Community Service Desk offers information and referrals regarding social service issues, such as housing, food, transportation, health insurance counseling, and estate planning. Massage, podiatry, and acupuncture are available by appointment. Lunch is served Monday-Friday, 11:30 am-1:00 pm. Prices vary according to selection.\", '', 'Tagalog, Spanish', '37.4480204', '-122.1805905', 'Little House', \"A multipurpose senior citizens' center.\", 'SAMTRANS stops within 3 blocks, RediWheels and Menlo Park Shuttle stop at door.', '', 'false']\n",
      "['7', '2', 'ramp, restroom, disabled_parking, wheelchair', '', '', 'Rosener House is a day center for older adults who may be unable to live independently but do not require 24-hour nursing care, may be isolated and in need of a planned activity program, may need assistance with activities of daily living or are living in a family situation where the caregiver needs respite from giving full-time care. Assists elderly persons to continue to live with family or alone rather than moving to a skilled nursing facility. Activities are scheduled Monday-Friday, 10 am-2:30 pm, and participants may come two to five days per week. The facility is open from 8 am to 5:30 pm for participants who need to remain all day. Small group late afternoon activities are held from 3-5:30 pm. The program provides a noon meal including special diets as required. Services offered include social and therapeutic recreational activities, individual and family counseling and occupational, physical and speech therapy. A registered nurse is available daily. The Dementia and Alzheimer\\'s Services Program provides specialized activities in a supportive environment for participants with Alzheimer\\'s disease and other dementias. Holds a weekly support group for caregivers. An early memory loss class for independent adults, \"Minds in Motion\" meets weekly at Rosener House on Wednesday mornings. Call for more information.', '', 'Spanish, Tagalog, Vietnamese', '37.4441785', '-122.1830931', 'Rosener House Adult Day Services', 'A day center for adults age 50 or over.', 'Transportation can be arranged via Redi-Wheels or Outreach.', '', 'false']\n",
      "['8', '2', '', '', '', 'Delivers a hot meal to the home of persons age 60 or over who are primarily homebound and unable to prepare their own meals, and have no one to prepare meals. Also, delivers a hot meal to the home of disabled individuals ages 18-59. Meals are delivered between 9 am-1:30 pm, Monday-Friday. Special diets are accommodated: low fat, low sodium, and low sugar.', '', 'Spanish', '37.4480204', '-122.1805905', 'Meals on Wheels - South County', 'Will deliver a hot meal to the home of persons age 60 or over who are homebound and unable to prepare their own meals. Can provide special diets.', 'Not necessary for service.', '', 'false']\n",
      "['9', '3', 'ramp, restroom, wheelchair', '', '', 'Provides general reading material, including bilingual, multi-cultural books, CDs and cassettes, bilingual and Spanish language reference services. School, class and other group visits may be arranged by appointment. The library is a member of the Peninsula Library System.', '', 'Spanish', '37.478502', '-122.2141428', 'Fair Oaks Branch', 'Provides general reading materials and reference services.', 'SAMTRANS stops in front.', '', 'false']\n",
      "['10', '3', 'elevator, tape_braille, ramp, restroom, disabled_parking, wheelchair', '', '', \"Provides general reading and media materials, literacy and homework assistance, and programs for all ages. Provides public computers, wireless connectivity, a children's room, teen center, and a local history collection. The library is a member of the Peninsula Library System. The Fair Oaks Branch (650-780-7261) is located at 2510 Middlefield Road and is open Monday-Thursday, 10-7; Friday, 10-5. The Schaberg Branch (650-780-7010) is located at 2140 Euclid Avenue and is open Tuesday-Thursday, 1-6; Saturday, 10-3. The Redwood Shores Branch (650-780-5740) is located at 399 Marine Parkway and is open Monday-Thursday, 10-8; Saturday, 10-5; Sunday 12-5.\", '', 'Spanish', '37.4838423', '-122.2273954', 'Main Library', 'Provides general reference and reading materials to adults, teenagers and children.', 'SAMTRANS stops within 1 block; CALTRAIN stops within 1 block.', '', 'false']\n",
      "['11', '3', 'ramp', '', '', \"Provides general reading materials, including large-type books, DVD's and CDs, books on CD and some Spanish language materials to children. Offers children's programs and a Summer Reading Club. Participates in the Peninsula Library System.\", '', '', '37.466553', '-122.2430898', 'Schaberg Branch', 'Provides general reading materials and reference services.', 'SAMTRANS stops within 1 block.', '', 'false']\n",
      "['12', '3', 'disabled_parking, elevator, ramp, restroom', 'ohana@gmail.com', '', \"Offers an intergenerational literacy program for youth and English-speaking adults seeking to improver literacy skills. Adult services include: adult one-to-one tutoring to improve basic skills in reading, writing and critical thinking; Families for Literacy (FFL), a home-based family literacy program for parents who want to be able to read to their young children; and small group/English as a Second Language (ESL). Youth services include: Youth Tutoring, Families in Partnership (FIP); Teen-to-Elementary Student Tutoring, Kids in Partnership (KIP); and computer-aided literacy. Redwood City Friends of Literacy is a fundraising board that helps to support and to fund Redwood City's Project Read. Call for more information about each service.\", '', '', '37.4838423', '-122.2273954', 'Project Read', 'Offers an intergenerational literacy program for adults and youth seeking to improver literacy skills.', 'SAMTRANS stops within 1 block.', '', 'false']\n",
      "['13', '3', '', '', '', \"Provides general reading materials, including large-type books, videos, music cassettes and CDs, and books on tape. Offers children's programs and a Summer Reading Club. Meeting room is available to nonprofit groups. Participates in the Peninsula Library System.\", '', '', '37.5304228', '-122.2586432', 'Redwood Shores Branch', 'Provides general reading materials and reference services.', '', '', 'false']\n",
      "['14', '4', 'wheelchair', '', '', 'Provides food, clothing, bus tokens and shelter to individuals and families in times of crisis from the Redwood City Corps office and community centers throughout the county. Administers Project REACH (Relief for Energy Assistance through Community Help) funds to prevent energy shut-off through a one-time payment. Counseling and translation services (English/Spanish) are available either on a walk-in basis or by appointment. Rental assistance with available funds. Another office (described separately) is located at 409 South Spruce Avenue, South San Francisco (650-266-4591).', '', 'Spanish', '37.4913864', '-122.2315683', 'Redwood City Corps', 'Provides a variety of emergency services to low-income persons. Also sponsors recreational and educational activities.', 'SAMTRANS stops nearby.', '', 'false']\n",
      "['15', '4', 'wheelchair', '', '', 'Provides a long-term (6-12 month) residential rehabilitation program for men and women with substance abuse and other problems. Residents receive individual counseling, and drug and alcohol education. The spiritual side of recovery is addressed through chapel services and Bible study as well as 12-step programs. Nicotine cessation is a part of the program. Residents must be physically able to work, seeking treatment for substance abuse, sober long enough to pass urine drug screen before entering and agreeable to participating in weekly 12-step programs such as Alcoholics Anonymous or Narcotics Anonymous. Pinehurst Lodge is a separate facility for women only. Transition houses for men and women graduates also available.', '', 'Spanish', '37.7488993', '-122.4203671', 'Adult Rehabilitation Center', 'Long-term (6-12 month) residential treatment program for men/women age 21-60.', 'MUNI - 26 Valencia, Mission Street lines.', '', 'false']\n",
      "['16', '4', '', '', '', 'Provides emergency assistance including food and clothing for persons in immediate need. Provides PG&E assistance through REACH program. Youth programs offer tutoring, music and troops. Information on related resources is available. Also provides rental assistance when funds are available.', '', 'Korean', '37.3569004', '-122.0600024', 'Sunnyvale Corps', 'Provides emergency assistance to persons in immediate need and offers after school activities and summer day camp program.', 'VTA stops within 4 blocks.', '', 'false']\n",
      "['17', '4', 'wheelchair', '', '', 'Provides emergency food, clothing and furniture vouchers to low-income families in times of crisis. Administers Project REACH (Relief for Energy Assistance through Community Help) funds to prevent energy shut-off through a one-time payment. Offers a Saturday morning Homeless Feeding Program at 10:30, as well as Sunday services and spiritual counseling. Provides Christmas toys and Back-to-School clothes and supplies. Offers case management, advocacy and referrals to other agencies.', '', '', '37.6445898', '-122.4224905', 'South San Francisco Citadel Corps', 'Provides emergency food and clothing and furniture vouchers to low-income families in times of crisis.', 'SAMTRANS stops within 1 block, BART stops within 3 blocks.', '', 'false']\n",
      "['18', '5', 'cd, restroom, wheelchair', '', '', 'Provides free medical care to those in need. Offers basic medical exams for adults and tuberculosis screening. Assists the individual to access other services in the community. By appointment only, Project Smile provides a free dental exam, dental cleaning and oral hygiene instruction for children, age 3-12, of Samaritan House clients.', '', 'Spanish', '37.468614', '-122.2067982', 'Redwood City Free Medical Clinic', 'Provides free medical care to those in need.', 'SAMTRANS stops within 2 blocks.', 'http://www.samaritanhouse.com', 'false']\n",
      "['19', '5', 'elevator, ramp, wheelchair', '', '', 'Provides free medical and dental care to those in need. Offers basic medical care for adults.', '', 'Spanish', '37.5326941', '-122.2931236', 'San Mateo Free Medical Clinic', 'Provides free medical and dental care to those in need. Offers basic medical care for adults.', 'SAMTRANS stops within 1 block.', 'http://www.samaritanhouse.com', 'false']\n",
      "['20', '6', '', '', '', 'no phone', '', '', '', '', 'Location with no phone', 'no phone', '', '', 'true']\n",
      "['21', '7', 'elevator, restroom', '', '', 'This is a description', '', '', '37.5291938', '-122.2871612', 'Admin Test Location', 'This is a short description', 'SAMTRANS stops within 1/2 mile.', '', 'false']\n",
      "['22', '8', 'disabled_parking, restroom, wheelchair', 'foo@bar.com', 'The Test Spot', '[NOTE THIS IS NOT A REAL ORGANIZATION--THIS IS FOR TESTTING PURPOSES OF THIS ALPHA APP] Lorem ipsum dolor sit amet, consectetur adipiscing elit. Praesent suscipit metus eu orci lobortis dictum. In hac habitasse platea dictumst. Vivamus vulputate, neque ut sodales gravida, lorem nunc pharetra ligula, ac cursus sem justo a sapien. Duis vitae vestibulum magna. Sed vel augue in justo rhoncus viverra. Nam ac felis a purus lobortis porttitor sit amet quis est. Suspendisse vulputate nisl quis nisi fermentum aliquet euismod at augue. Sed ultricies, purus dapibus tristique dictum, tortor mauris porttitor nulla, at porta nisl sem sed dolor. Proin ac hendrerit erat. Duis porta iaculis orci, eu euismod quam tristique in. Phasellus nec purus sit amet sapien volutpat egestas.', 'info@example.org', 'Cantonese, Russian, Spanish, Tagalog, Taiwanese', '37.7726402', '-122.4099154', 'Example Location', '[NOTE THIS IS NOT A REAL ENTRY--THIS IS FOR TESTING PURPOSES OF THIS ALPHA APP]', 'SAMTRANS stops within 1 block', 'http://www.example.org', 'false']\n"
     ]
    }
   ],
   "source": [
    "import csv\n",
    "with open('locations.csv','r') as file:\n",
    "    csv_file = csv.reader(file,delimiter=',')\n",
    "    for ele in csv_file:\n",
    "        print(ele)"
   ]
  },
  {
   "cell_type": "markdown",
   "id": "c3478f56",
   "metadata": {},
   "source": [
    "### 3. What modes do File objects for reader and writer objects need to be opened in?\n",
    "For `csv.reader(iterable_file_object)`, the file objects needed to be opened in `read` mode `mode='r'` Whereas for `csv.writer(iterable_file_object)` the file objects needed to be opened in `write` mode `mode='w'`\n"
   ]
  },
  {
   "cell_type": "markdown",
   "id": "c2f017ec",
   "metadata": {},
   "source": [
    "### 4. What method takes a list argument and writes it to a CSV file?\n",
    "csv.writer class provides two methods for writing to CSV. They are `writerow()` and `writerows().` writerow() method writes a single row at a time. Whereas writerows() method is used to write multiple rows at a time."
   ]
  },
  {
   "cell_type": "code",
   "execution_count": 9,
   "id": "3a3e46b5",
   "metadata": {},
   "outputs": [],
   "source": [
    "#e.g.\n",
    "import csv      \n",
    "fields = ['Name', 'Branch', 'Year', 'CGPA']\n",
    "rows = [ \n",
    "            ['Salman', 'EEE', '4', '8.0'],  \n",
    "            ['Avanish', 'EEE', '4', '7.1'], \n",
    "            ['Chandan', 'EEE', '4', '6.0']\n",
    "       ] \n",
    "with open(\"university_records.csv\", 'w') as csvfile: \n",
    "    csvwriter = csv.writer(csvfile)\n",
    "    csvwriter.writerow(fields) \n",
    "    csvwriter.writerows(rows) "
   ]
  },
  {
   "cell_type": "markdown",
   "id": "68179164",
   "metadata": {},
   "source": [
    "### 5. What do the keyword arguments delimiter and line terminator do?\n",
    "The `delimiter` argument changes the string used to separate cells in a row.     \n",
    "The `lineterminator` argument changes the string used to separate rows."
   ]
  },
  {
   "cell_type": "code",
   "execution_count": 10,
   "id": "f238ad13",
   "metadata": {},
   "outputs": [],
   "source": [
    "import csv\n",
    "csvFile = open('university_records.csv', 'w', newline='')\n",
    "csvWriter = csv.writer(csvFile, delimiter='\\t', lineterminator='\\n\\n')"
   ]
  },
  {
   "cell_type": "markdown",
   "id": "94752f89",
   "metadata": {},
   "source": [
    "### 6. What function takes a string of JSON data and returns a Python data structure?\n",
    "`loads()` method takes a string of JSON data and returns a Python data structure"
   ]
  },
  {
   "cell_type": "code",
   "execution_count": 11,
   "id": "cf976f3f",
   "metadata": {},
   "outputs": [
    {
     "name": "stdout",
     "output_type": "stream",
     "text": [
      "{\n",
      "    \"Name\": \"Jivitesh Varshney\",\n",
      "    \"Qualification\": \"B.Tech\",\n",
      "    \"Stream\": \"Electrical & Electronics Engineering\"\n",
      "}\n",
      "Type of my_details_json is <class 'str'>\n",
      "{'Name': 'Jivitesh Varshney', 'Qualification': 'B.Tech', 'Stream': 'Electrical & Electronics Engineering'}\n",
      "Type of my_details is <class 'dict'>\n"
     ]
    }
   ],
   "source": [
    "#e.g.\n",
    "import json\n",
    "my_details_json ='''{\n",
    "    \"Name\": \"Jivitesh Varshney\",\n",
    "    \"Qualification\": \"B.Tech\",\n",
    "    \"Stream\": \"Electrical & Electronics Engineering\"\n",
    "}'''\n",
    "print(my_details_json)\n",
    "print(f'Type of my_details_json is {type(my_details_json)}')\n",
    "my_details = json.loads(my_details_json)\n",
    "print(my_details)\n",
    "print(f'Type of my_details is {type(my_details)}')"
   ]
  },
  {
   "cell_type": "markdown",
   "id": "bc39716d",
   "metadata": {},
   "source": [
    "#### 7. What function takes a Python data structure and returns a string of JSON data?\n",
    "**Ans:** `dumps()` method takes a python data structure and returns a string of JSON data"
   ]
  },
  {
   "cell_type": "code",
   "execution_count": 4,
   "id": "5125a827",
   "metadata": {},
   "outputs": [
    {
     "name": "stdout",
     "output_type": "stream",
     "text": [
      "{'Name': 'Mano Vishnu', 'Stream': 'Computer Science and Engineering', 'Qualification': 'Bachelor of Technology'}\n",
      "Type of my_details is <class 'dict'>\n",
      "{\n",
      "    \"Name\": \"Mano Vishnu\",\n",
      "    \"Qualification\": \"Bachelor of Technology\",\n",
      "    \"Stream\": \"Computer Science and Engineering\"\n",
      "}\n",
      "Type of my_details_json is <class 'str'>\n"
     ]
    }
   ],
   "source": [
    "#e.g.\n",
    "import json\n",
    "my_details = {\n",
    "    'Name':'Jivitesh Varshney',\n",
    "    'Stream':'Electrical & Electronics Engineering',\n",
    "    'Qualification':'B.Tech'\n",
    "}\n",
    "print(my_details)\n",
    "print(f'Type of my_details is {type(my_details)}')\n",
    "my_details_json = json.dumps(my_details, indent=4, sort_keys=True)\n",
    "print(my_details_json)\n",
    "print(f'Type of my_details_json is {type(my_details_json)}')"
   ]
  }
 ],
 "metadata": {
  "kernelspec": {
   "display_name": "Python 3 (ipykernel)",
   "language": "python",
   "name": "python3"
  },
  "language_info": {
   "codemirror_mode": {
    "name": "ipython",
    "version": 3
   },
   "file_extension": ".py",
   "mimetype": "text/x-python",
   "name": "python",
   "nbconvert_exporter": "python",
   "pygments_lexer": "ipython3",
   "version": "3.9.7"
  }
 },
 "nbformat": 4,
 "nbformat_minor": 5
}
