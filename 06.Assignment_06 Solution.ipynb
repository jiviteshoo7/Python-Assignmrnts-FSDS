{
 "cells": [
  {
   "cell_type": "markdown",
   "id": "139b27f5",
   "metadata": {},
   "source": [
    "### 1. What are Escape characters ? and how do you use them ?\n",
    "Escape characters represent characters in string values. We can use the backslash `character` to escape a single character or symbol  \n",
    "`\\t, \\n`"
   ]
  },
  {
   "cell_type": "markdown",
   "id": "65158d13",
   "metadata": {},
   "source": [
    "### 2. What do the escape characters n and t stand for ?\n",
    "`\\n` is a newline  \n",
    "`\\t` is a tab"
   ]
  },
  {
   "cell_type": "markdown",
   "id": "cde66f92",
   "metadata": {},
   "source": [
    "### 3. What is the way to include backslash character in a string?\n",
    "The `\\\\` escape character will represent the backslash character in a string."
   ]
  },
  {
   "cell_type": "markdown",
   "id": "76e06c65",
   "metadata": {},
   "source": [
    "### 4. The string \"Howl's Moving Castle\" is a correct value. Why isn't the single quote character in the word Howl's not escaped a problem ?\n",
    "The string `\"Howl's Moving Castle\"` escaped the problem because it is wrapped inside double quotes. If its wrapped inside single quotes then we have to use escape character `\\'` to show single quote in the final output.  "
   ]
  },
  {
   "cell_type": "markdown",
   "id": "2d8f6466",
   "metadata": {},
   "source": [
    "### 5. How do you write a string of newlines if you don't want to use the n character?\n",
    "Multiline string allow you to use newlines in string without the `\\n` escape character  "
   ]
  },
  {
   "cell_type": "code",
   "execution_count": 3,
   "id": "c6d7751f",
   "metadata": {},
   "outputs": [
    {
     "name": "stdout",
     "output_type": "stream",
     "text": [
      "Full Stack\n",
      "Data science\n",
      "Job Guarantee\n",
      "Program\n"
     ]
    }
   ],
   "source": [
    "# e.g.\n",
    "a = '''Full Stack\n",
    "Data science\n",
    "Job Guarantee\n",
    "Program'''\n",
    "print(a)"
   ]
  },
  {
   "cell_type": "markdown",
   "id": "0797aa66",
   "metadata": {},
   "source": [
    "### 6. What are the values of the given expressions ?\n",
    "'Hello, world!'[1]  \n",
    "'Hello, world!'[0:5]  \n",
    "'Hello, world!'[:5]  \n",
    "'Hello, world!'[3:]  "
   ]
  },
  {
   "cell_type": "markdown",
   "id": "bfd1182a",
   "metadata": {},
   "source": [
    "The values for the given expressions are:  \n",
    "'Hello, world!'[1] **`-`**  `'e'`  \n",
    "'Hello, world!'[0:5] **`-`**  `'Hello'`  \n",
    "'Hello, world!'[:5] **`-`**  `'Hello'`  \n",
    "'Hello, world!'[3:] **`-`**  `'lo, world!'`"
   ]
  },
  {
   "cell_type": "markdown",
   "id": "5f26443e",
   "metadata": {},
   "source": [
    "### 7. What are the values of the following expressions ?\n",
    "'Hello'.upper()  \n",
    "'Hello'.upper().isupper()  \n",
    "'Hello'.upper().lower()    \n",
    "\n",
    "The values for the given expressions are:  \n",
    "'Hello'.upper() **`-`** `'HELLO'`  \n",
    "'Hello'.upper().isupper() **`-`**  `True`    \n",
    "'Hello'.upper().lower() **`-`** `'hello'`  "
   ]
  },
  {
   "cell_type": "markdown",
   "id": "d34b2b45",
   "metadata": {},
   "source": [
    "### 8. What are the values of the following expressions ?\n",
    "'Remember, remember, the fifith of July.'.split()  \n",
    "-'.join('There can only one'.split())\n",
    "The values for the given expressions are:  \n",
    "'Remember, remember, the fifith of July.'.split()  **`-`** `['Remember,', 'remember,', 'the', 'fifith', 'of', 'July.']`  \n",
    "'-'.join('There can only one'.split()) **`-`** `'There-can-only-one'` "
   ]
  },
  {
   "cell_type": "markdown",
   "id": "d6d59cd3",
   "metadata": {},
   "source": [
    "### 9. What are the methods for right-justifying, left-justifying and centering a string ?\n",
    "The `rjust()`,`ljust()`,`center()` string methods, respectively."
   ]
  },
  {
   "cell_type": "markdown",
   "id": "e98117dc",
   "metadata": {},
   "source": [
    "### 10. What is the best way to remove whitespace characters from the start or end ?\n",
    "The `lstrip()` and `rstrip()` methods remove whitesapce characters from the left and right ends of a string respectively."
   ]
  }
 ],
 "metadata": {
  "kernelspec": {
   "display_name": "Python 3 (ipykernel)",
   "language": "python",
   "name": "python3"
  },
  "language_info": {
   "codemirror_mode": {
    "name": "ipython",
    "version": 3
   },
   "file_extension": ".py",
   "mimetype": "text/x-python",
   "name": "python",
   "nbconvert_exporter": "python",
   "pygments_lexer": "ipython3",
   "version": "3.9.7"
  }
 },
 "nbformat": 4,
 "nbformat_minor": 5
}
