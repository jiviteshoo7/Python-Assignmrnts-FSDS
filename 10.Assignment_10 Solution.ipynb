{
 "cells": [
  {
   "cell_type": "markdown",
   "id": "c00ae223",
   "metadata": {},
   "source": [
    "### 1. How do you distinguish between shutil.copy() and shutil.copytree()?\n",
    "`shutil.copy()` method is used to copy the contents of a file from one file to another file/folder.  \n",
    "`shutil.copytree()` function is used to copy the entire contents of a folder to other folder.\n"
   ]
  },
  {
   "cell_type": "markdown",
   "id": "0a932861",
   "metadata": {},
   "source": [
    "### 2. What function is used to rename files??\n",
    "`os.rename()` function is used to rename files or directories using a python program, this function takes two arguments `src` and `dest`, `src` represents the name file/directory which we want to rename, whereas `dest` represents the new name of the file/directory."
   ]
  },
  {
   "cell_type": "markdown",
   "id": "34ce7a3d",
   "metadata": {},
   "source": [
    "### 3. What is the difference between the delete functions in the send2trash and shutil modules?\n",
    "import shutil  \n",
    "`shutil.retree() :`The shutil module’s rmtree() function can be used to delete files or folders. But, this function delete the files permanently.The operations cannot be undone if there were any accidental deletions performed \n",
    "\n",
    "import send2trash  \n",
    "`send2trash.send2trash() :` Using send2trash, we can send files to the Trash or Recycle Bin instead of permanently \n",
    "deleting them. If the directory contains files or other folders, those are also deleted. A TrashPermissionError exception is raised,in case a file could not be deleted due to permission error or any other unexpected reason."
   ]
  },
  {
   "cell_type": "markdown",
   "id": "bf6ed792",
   "metadata": {},
   "source": [
    "### 4. ZipFile objects have a close() method just like File objects’ close() method. What ZipFile method is equivalent to File objects’ open() method?\n",
    "ZipFile Module provides a method called as `zipfile.ZipFile()` to read and write to zipFiles. it takes arugments lile filename and mode etc `zipfile.ZipFile('filename', mode = 'r')`"
   ]
  },
  {
   "cell_type": "markdown",
   "id": "c625fcea",
   "metadata": {},
   "source": [
    "### 5. Create a programme that searches a folder tree for files with a certain file extension (such as .pdf or .jpg). Copy these files from whatever location they are in to a new folder."
   ]
  },
  {
   "cell_type": "code",
   "execution_count": 10,
   "id": "4710d7d8",
   "metadata": {},
   "outputs": [
    {
     "name": "stdout",
     "output_type": "stream",
     "text": [
      "Looking in C:\\Users\\JIVITESH\\source for files with extensions of .ipynb, .pdf, .jpg\n",
      "Copying C:\\Users\\JIVITESH\\source\\Assignment_06 Solution.ipynb to C:\\Users\\JIVITESH\\dest\n",
      "Copying C:\\Users\\JIVITESH\\source\\Assignment_07 Solution.ipynb to C:\\Users\\JIVITESH\\dest\n",
      "Copying C:\\Users\\JIVITESH\\source\\Assignment_08 Solution.ipynb to C:\\Users\\JIVITESH\\dest\n",
      "Copying C:\\Users\\JIVITESH\\source\\Assignment_09 Solution.ipynb to C:\\Users\\JIVITESH\\dest\n",
      "Copying C:\\Users\\JIVITESH\\source\\Assignment_10 Solution.ipynb to C:\\Users\\JIVITESH\\dest\n",
      "Copying C:\\Users\\JIVITESH\\source\\Lasso & Ridge Regression implementation.ipynb to C:\\Users\\JIVITESH\\dest\n"
     ]
    }
   ],
   "source": [
    "import os, shutil\n",
    "\n",
    "def selectiveCopy(source, extensions, destFolder):\n",
    "    folder = os.path.abspath(source)\n",
    "    destFolder = os.path.abspath(destFolder)\n",
    "    print('Looking in', source, 'for files with extensions of', ', '.join(extensions))\n",
    "    for foldername, subfolders, filenames in os.walk(source):\n",
    "        for filename in filenames:\n",
    "            name, extension = os.path.splitext(filename)\n",
    "            if extension in extensions:\n",
    "                fileAbsPath = foldername + os.path.sep + filename\n",
    "                print('Copying', fileAbsPath, 'to', destFolder)\n",
    "                shutil.copy(fileAbsPath, destFolder)\n",
    "\n",
    "extensions = ['.ipynb', '.pdf','.jpg']\n",
    "source = \"C:\\\\Users\\\\JIVITESH\\\\source\"\n",
    "destFolder = \"C:\\\\Users\\\\JIVITESH\\\\dest\"\n",
    "selectiveCopy(source, extensions, destFolder)"
   ]
  },
  {
   "cell_type": "code",
   "execution_count": null,
   "id": "044e5b23",
   "metadata": {},
   "outputs": [],
   "source": []
  }
 ],
 "metadata": {
  "kernelspec": {
   "display_name": "Python 3 (ipykernel)",
   "language": "python",
   "name": "python3"
  },
  "language_info": {
   "codemirror_mode": {
    "name": "ipython",
    "version": 3
   },
   "file_extension": ".py",
   "mimetype": "text/x-python",
   "name": "python",
   "nbconvert_exporter": "python",
   "pygments_lexer": "ipython3",
   "version": "3.9.7"
  }
 },
 "nbformat": 4,
 "nbformat_minor": 5
}
