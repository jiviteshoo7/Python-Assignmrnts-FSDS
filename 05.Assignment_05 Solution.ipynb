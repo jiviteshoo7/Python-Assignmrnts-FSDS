{
 "cells": [
  {
   "cell_type": "markdown",
   "metadata": {},
   "source": [
    "### 1.What does an empty dictionary's code look like?\n",
    "An empty dictionary is often represented by two empty curly brackets  \n",
    "`d = {}` or `d = dict()`"
   ]
  },
  {
   "cell_type": "markdown",
   "metadata": {},
   "source": [
    "### 2.what is the value of dictionary value with key 'foo' and the value 42 ?\n",
    "`{'foo':42}`"
   ]
  },
  {
   "cell_type": "markdown",
   "metadata": {},
   "source": [
    "### 3.What is the most significant distinction between a dictionary and a list?\n",
    "Dictionaries are represented by `{}` where as listed are represented by `[]`. The Items stored in a dictionary are Unordered , while the items in a list are ordered"
   ]
  },
  {
   "cell_type": "markdown",
   "metadata": {},
   "source": [
    "### 4.What happens if you try to access spam ['foo'] if spam is {'bar':100} ?\n",
    "we will get a keyError `KeyError: 'foo'`"
   ]
  },
  {
   "cell_type": "markdown",
   "metadata": {},
   "source": [
    "### 5.if a dictionary is stored in spam,what is the difference between the expressions 'cat' in spam and 'cat' in spam.keys() ?\n",
    "There is no difference . The operator checks whether a value exits as a key in the dictionary or not"
   ]
  },
  {
   "cell_type": "markdown",
   "metadata": {},
   "source": [
    "### 6.if a dictionary is stored in spam,what is the difference between the expressions 'cat' in spam and 'cat' in spam.values() ?\n",
    "'cat' in spam checks whether there is a 'cat' key in the dictionary, while 'cat' in spam.values() checks whether there is a value 'cat' for one of the keys in spam."
   ]
  },
  {
   "cell_type": "markdown",
   "metadata": {},
   "source": [
    "### 7.what is a shortcut for the following code ?\n",
    "`if 'color' not in spam:\n",
    "    spam['color'] ='black'`\n",
    "    \n",
    "`spam.setdefault('color','black')`"
   ]
  },
  {
   "cell_type": "markdown",
   "metadata": {},
   "source": [
    "### 8.How do you 'pretty print' dictionary values using which modules and function ?\n",
    "we can pretty print a dictionary using three functions\n",
    "1. by using pprint() function of pprint module\n",
    "    * **Note:** pprint() function doesnot prettify nested dictionaries\n",
    "2. by using dumps() method of json module\n",
    "3. by using dumps() method of yaml module\n"
   ]
  },
  {
   "cell_type": "code",
   "execution_count": 8,
   "metadata": {},
   "outputs": [
    {
     "name": "stdout",
     "output_type": "stream",
     "text": [
      "Printing using print() function\n",
      " [{'Name': 'Adam', 'Age': '26', 'Residence': {'Country': 'UK', 'PROFESSION': 'ENGINEER'}}, {'Name': 'Louis', 'Age': '24', 'Residence': {'Country': 'ITALY', 'PROFESSION': 'SALESMAN'}}, {'Name': 'Virat', 'Age': '29', 'Residence': {'Country': 'INDIA', 'PROFESSION': 'CRICKETER'}}, {'Name': 'Rahul', 'Age': '28', 'Residence': {'Country': 'INDIA', 'PROFESSION': 'CRICKETER'}}]\n",
      "**********************************************************************\n",
      "Printing using pprint() funciton\n",
      "[{'Age': '26',\n",
      "  'Name': 'Adam',\n",
      "  'Residence': {'Country': 'UK', 'PROFESSION': 'ENGINEER'}},\n",
      " {'Age': '24',\n",
      "  'Name': 'Louis',\n",
      "  'Residence': {'Country': 'ITALY', 'PROFESSION': 'SALESMAN'}},\n",
      " {'Age': '29',\n",
      "  'Name': 'Virat',\n",
      "  'Residence': {'Country': 'INDIA', 'PROFESSION': 'CRICKETER'}},\n",
      " {'Age': '28',\n",
      "  'Name': 'Rahul',\n",
      "  'Residence': {'Country': 'INDIA', 'PROFESSION': 'CRICKETER'}}]\n",
      "**********************************************************************\n",
      "Printing using dumps() method\n",
      " [\n",
      "    {\n",
      "        \"Name\": \"Adam\",\n",
      "        \"Age\": \"26\",\n",
      "        \"Residence\": {\n",
      "            \"Country\": \"UK\",\n",
      "            \"PROFESSION\": \"ENGINEER\"\n",
      "        }\n",
      "    },\n",
      "    {\n",
      "        \"Name\": \"Louis\",\n",
      "        \"Age\": \"24\",\n",
      "        \"Residence\": {\n",
      "            \"Country\": \"ITALY\",\n",
      "            \"PROFESSION\": \"SALESMAN\"\n",
      "        }\n",
      "    },\n",
      "    {\n",
      "        \"Name\": \"Virat\",\n",
      "        \"Age\": \"29\",\n",
      "        \"Residence\": {\n",
      "            \"Country\": \"INDIA\",\n",
      "            \"PROFESSION\": \"CRICKETER\"\n",
      "        }\n",
      "    },\n",
      "    {\n",
      "        \"Name\": \"Rahul\",\n",
      "        \"Age\": \"28\",\n",
      "        \"Residence\": {\n",
      "            \"Country\": \"INDIA\",\n",
      "            \"PROFESSION\": \"CRICKETER\"\n",
      "        }\n",
      "    }\n",
      "]\n",
      "----------------------------------------------------------------------\n",
      "Printing using dump() method\n",
      " - Age: '26'\n",
      "  Name: Adam\n",
      "  Residence:\n",
      "    Country: UK\n",
      "    PROFESSION: ENGINEER\n",
      "- Age: '24'\n",
      "  Name: Louis\n",
      "  Residence:\n",
      "    Country: ITALY\n",
      "    PROFESSION: SALESMAN\n",
      "- Age: '29'\n",
      "  Name: Virat\n",
      "  Residence:\n",
      "    Country: INDIA\n",
      "    PROFESSION: CRICKETER\n",
      "- Age: '28'\n",
      "  Name: Rahul\n",
      "  Residence:\n",
      "    Country: INDIA\n",
      "    PROFESSION: CRICKETER\n",
      "\n"
     ]
    }
   ],
   "source": [
    "ndict = [\n",
    "  {'Name': 'Adam', 'Age': '26', 'Residence': {'Country':'UK', 'PROFESSION': 'ENGINEER'}},\n",
    "  {'Name': 'Louis', 'Age': '24', 'Residence': {'Country':'ITALY', 'PROFESSION': 'SALESMAN'}},\n",
    "  {'Name': 'Virat', 'Age': '29', 'Residence': {'Country':'INDIA', 'PROFESSION': 'CRICKETER'}},\n",
    "  {'Name': 'Rahul', 'Age': '28', 'Residence': {'Country':'INDIA', 'PROFESSION': 'CRICKETER'}}\n",
    "]\n",
    "\n",
    "print('Printing using print() function\\n',ndict)\n",
    "print('*'*70)\n",
    "\n",
    "import pprint\n",
    "print('Printing using pprint() funciton')\n",
    "pprint.pprint(ndict)\n",
    "print('*'*70)\n",
    "\n",
    "import json\n",
    "dump = json.dumps(ndict, indent=4)\n",
    "print('Printing using dumps() method\\n', dump)\n",
    "print('-'*70)\n",
    "\n",
    "import yaml\n",
    "dump = yaml.dump(ndict)\n",
    "print('Printing using dump() method\\n', dump)\n"
   ]
  }
 ],
 "metadata": {
  "kernelspec": {
   "display_name": "Python 3 (ipykernel)",
   "language": "python",
   "name": "python3"
  },
  "language_info": {
   "codemirror_mode": {
    "name": "ipython",
    "version": 3
   },
   "file_extension": ".py",
   "mimetype": "text/x-python",
   "name": "python",
   "nbconvert_exporter": "python",
   "pygments_lexer": "ipython3",
   "version": "3.9.7"
  }
 },
 "nbformat": 4,
 "nbformat_minor": 4
}
